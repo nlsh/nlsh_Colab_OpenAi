{
  "nbformat": 4,
  "nbformat_minor": 0,
  "metadata": {
    "colab": {
      "provenance": [],
      "toc_visible": true,
      "mount_file_id": "1xO1eCmGfH8I-xcL1l2wElu-oCNfuz7iN",
      "authorship_tag": "ABX9TyMb1Z04zMhKQFfELw9yUj6g",
      "include_colab_link": true
    },
    "kernelspec": {
      "name": "python3",
      "display_name": "Python 3"
    },
    "language_info": {
      "name": "python"
    }
  },
  "cells": [
    {
      "cell_type": "markdown",
      "metadata": {
        "id": "view-in-github",
        "colab_type": "text"
      },
      "source": [
        "<a href=\"https://colab.research.google.com/github/nlsh/nlsh_Colab_OpenAi/blob/main/nlsh_Colab_OpenAi.ipynb\" target=\"_parent\"><img src=\"https://colab.research.google.com/assets/colab-badge.svg\" alt=\"Open In Colab\"/></a>"
      ]
    },
    {
      "cell_type": "markdown",
      "source": [
        "#Test von openAI\n",
        "\n",
        "ein einfacher Test für openAI (mal selber googlen)\n",
        "\n",
        "Bitte die Funktion mehrfach aufrufen!\n",
        "\n",
        "Es werden Texte in Deutsch und Englisch, nach noch nicht, für mich jetzt steuerbare sprachliche Ausgaben (Deutsch/ Englisch), erzeugt. Aber dafür gibt es bestimmt noch einige Aufrufparameter.\n",
        "\n",
        "Der Parameter \n",
        "```\n",
        "model=\"text-davinci-002\" \n",
        "``` \n",
        "ist nur ein Beispiel und \n",
        "```\n",
        "message = completions.choices[0].text\n",
        "```\n",
        "eine Ausgabemöglichkeit.\n",
        "\n",
        "siehe https://youtu.be/9PNRBtAok-I\n",
        "\n"
      ],
      "metadata": {
        "id": "DBn1Bfd0IdEf"
      }
    },
    {
      "cell_type": "code",
      "execution_count": 14,
      "metadata": {
        "colab": {
          "base_uri": "https://localhost:8080/"
        },
        "id": "lx4YznZN-A_A",
        "outputId": "bae7bec7-85dd-4c29-87f5-b437e87bb1e2"
      },
      "outputs": [
        {
          "output_type": "stream",
          "name": "stdout",
          "text": [
            "Looking in indexes: https://pypi.org/simple, https://us-python.pkg.dev/colab-wheels/public/simple/\n",
            "Requirement already satisfied: openai in /usr/local/lib/python3.8/dist-packages (0.25.0)\n",
            "Requirement already satisfied: tqdm in /usr/local/lib/python3.8/dist-packages (from openai) (4.64.1)\n",
            "Requirement already satisfied: openpyxl>=3.0.7 in /usr/local/lib/python3.8/dist-packages (from openai) (3.0.10)\n",
            "Requirement already satisfied: pandas-stubs>=1.1.0.11 in /usr/local/lib/python3.8/dist-packages (from openai) (1.5.2.221213)\n",
            "Requirement already satisfied: pandas>=1.2.3 in /usr/local/lib/python3.8/dist-packages (from openai) (1.3.5)\n",
            "Requirement already satisfied: requests>=2.20 in /usr/local/lib/python3.8/dist-packages (from openai) (2.23.0)\n",
            "Requirement already satisfied: numpy in /usr/local/lib/python3.8/dist-packages (from openai) (1.21.6)\n",
            "Requirement already satisfied: typing-extensions in /usr/local/lib/python3.8/dist-packages (from openai) (4.4.0)\n",
            "Requirement already satisfied: et-xmlfile in /usr/local/lib/python3.8/dist-packages (from openpyxl>=3.0.7->openai) (1.1.0)\n",
            "Requirement already satisfied: pytz>=2017.3 in /usr/local/lib/python3.8/dist-packages (from pandas>=1.2.3->openai) (2022.6)\n",
            "Requirement already satisfied: python-dateutil>=2.7.3 in /usr/local/lib/python3.8/dist-packages (from pandas>=1.2.3->openai) (2.8.2)\n",
            "Requirement already satisfied: types-pytz>=2022.1.1 in /usr/local/lib/python3.8/dist-packages (from pandas-stubs>=1.1.0.11->openai) (2022.7.0.0)\n",
            "Requirement already satisfied: six>=1.5 in /usr/local/lib/python3.8/dist-packages (from python-dateutil>=2.7.3->pandas>=1.2.3->openai) (1.15.0)\n",
            "Requirement already satisfied: certifi>=2017.4.17 in /usr/local/lib/python3.8/dist-packages (from requests>=2.20->openai) (2022.12.7)\n",
            "Requirement already satisfied: chardet<4,>=3.0.2 in /usr/local/lib/python3.8/dist-packages (from requests>=2.20->openai) (3.0.4)\n",
            "Requirement already satisfied: idna<3,>=2.5 in /usr/local/lib/python3.8/dist-packages (from requests>=2.20->openai) (2.10)\n",
            "Requirement already satisfied: urllib3!=1.25.0,!=1.25.1,<1.26,>=1.21.1 in /usr/local/lib/python3.8/dist-packages (from requests>=2.20->openai) (1.24.3)\n",
            "\n",
            "\n",
            "Wenn du an Weihnachten denkst, denkst du an das Fest der Liebe. Du denkst an Familie, Freude und Frieden. Du denkst an eine Zeit, in der alle Menschen zusammenkommen und das Leben feiern. Du denkst an eine Zeit, in der die ganze Welt in Harmonie ist.\n",
            "\n",
            "Weihnachten ist eine Zeit der Freude und des Glücks. Es ist eine Zeit, in der du deine Lieben umarmen und ihnen sagen kannst, wie sehr du sie liebst. Es ist eine Zeit, in der du dich entspannen und die schönen Dinge im Leben genießen kannst.\n",
            "\n",
            "Weihnachten ist eine besondere Zeit, in der du die Magie der Liebe spüren kannst. Du kannst die Wunder des Lebens sehen und fühlen. In dieser Zeit kannst du alles erreichen, was du dir wünschst. Alles ist möglich, wenn du an die Liebe glaubst.\n",
            "\n",
            "Weihnachten ist eine Zeit der Hoffnung und des Friedens. In dieser Zeit kannst du deine Träume verwirklichen und deine Ziele erreichen. Alles, was du brauchst, ist die Liebe in deinem Herzen.\n",
            "\n",
            "Wenn du an Weihnachten denkst, denkst du an das größte Fest der Liebe. Denk an all die Freude, die du in dieser Zeit empfinden wirst. Denk an all die schönen Dinge, die du in dieser Zeit sehen und fühlen wirst. Weihnachten ist eine Zeit, in der alles möglich ist.\n"
          ]
        }
      ],
      "source": [
        "# Wenn einmal die Laufzeit in Colab initialisiert ist, kann man die Installation auskommentieren\n",
        "# spart einige Ausgabezeilen\n",
        "!pip install openai \n",
        "\n",
        "import openai \n",
        "\n",
        "# den eigenen, nicht öffentlichen Schlüssel aus GoogleDrive für OpenAI laden, privat\n",
        "openAiKey = open('/content/drive/MyDrive/Colab Notebooks/privateKeys/openAi_Key.txt', 'r')\n",
        "openAiKey = openAiKey.read()\n",
        "\n",
        "# hiernach kopieren\n",
        "#_______________________________________________________________________________\n",
        "\n",
        "# ab hier openAI nutzen\n",
        "def chat(prompt):\n",
        "    completions = openai.Completion.create(model=\"text-davinci-002\", prompt=prompt, max_tokens=1024, api_key=openAiKey)\n",
        "    message = completions.choices[0].text\n",
        "    return message\n",
        "\n",
        "#_______________________________________________________________________________\n",
        "# Ende kopieren\n",
        "\n",
        "# ab hier nur für Colab, zum Aufruf, Testen und Entwickeln der Funktion\n",
        "\n",
        "# Aufruf der Funktion mit Übergabe mit dem eigenem Text\n",
        "# ;-) natürlich nur im eigenem Google- Drive\n",
        "result = chat('Schreib mir einen weihnachtlichen Text.')\n",
        "\n",
        "print(result)\n"
      ]
    }
  ]
}