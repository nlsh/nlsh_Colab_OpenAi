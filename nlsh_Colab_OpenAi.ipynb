{
  "nbformat": 4,
  "nbformat_minor": 0,
  "metadata": {
    "colab": {
      "provenance": [],
      "toc_visible": true,
      "mount_file_id": "1xO1eCmGfH8I-xcL1l2wElu-oCNfuz7iN",
      "authorship_tag": "ABX9TyPVfrJAXIHNiJEPbq0SNvY1",
      "include_colab_link": true
    },
    "kernelspec": {
      "name": "python3",
      "display_name": "Python 3"
    },
    "language_info": {
      "name": "python"
    }
  },
  "cells": [
    {
      "cell_type": "markdown",
      "metadata": {
        "id": "view-in-github",
        "colab_type": "text"
      },
      "source": [
        "<a href=\"https://colab.research.google.com/github/nlsh/nlsh_Colab_OpenAi/blob/main/nlsh_Colab_OpenAi.ipynb\" target=\"_parent\"><img src=\"https://colab.research.google.com/assets/colab-badge.svg\" alt=\"Open In Colab\"/></a>"
      ]
    },
    {
      "cell_type": "markdown",
      "source": [
        "#Test von openAI\n",
        "\n",
        "ein einfacher Test für openAI (mal selber googlen)\n",
        "\n",
        "Bitte die Funktion mehrfach aufrufen!\n",
        "\n",
        "Es werden Texte in Deutsch und Englisch, nach noch nicht, für mich jetzt steuerbare sprachliche Ausgaben (Deutsch/ Englisch), erzeugt. Aber dafür gibt es bestimmt noch einige Aufrufparameter.\n",
        "\n",
        "Der Parameter \n",
        "```\n",
        "model=\"text-davinci-002\" \n",
        "``` \n",
        "ist nur ein Beispiel und \n",
        "```\n",
        "message = completions.choices[0].text\n",
        "```\n",
        "eine Ausgabemöglichkeit.\n",
        "\n",
        "siehe https://youtu.be/9PNRBtAok-I\n",
        "\n"
      ],
      "metadata": {
        "id": "DBn1Bfd0IdEf"
      }
    },
    {
      "cell_type": "markdown",
      "source": [
        "zuerst openAI in Colab installieren\n",
        "\n",
        "bitte zuerst starten"
      ],
      "metadata": {
        "id": "nfOTc3kcvxQr"
      }
    },
    {
      "cell_type": "code",
      "source": [
        "%pip install openai"
      ],
      "metadata": {
        "id": "GYQBkhF9u2ir"
      },
      "execution_count": null,
      "outputs": []
    },
    {
      "cell_type": "markdown",
      "source": [
        "ab hier könnt ihr testen und ausprobieren"
      ],
      "metadata": {
        "id": "9f82Day82WDU"
      }
    },
    {
      "cell_type": "code",
      "execution_count": 4,
      "metadata": {
        "colab": {
          "base_uri": "https://localhost:8080/"
        },
        "id": "lx4YznZN-A_A",
        "outputId": "31467f84-8417-4c32-c936-6b2161d233d7"
      },
      "outputs": [
        {
          "output_type": "stream",
          "name": "stdout",
          "text": [
            "\n",
            "\n",
            "Es ist Weihnachtszeit! Die Zeit des Jahres, wo Freude in die Herzen gelegt wird und Hoffnung für das neue Jahr geschöpft wird. Enger zusammenstehen wir, wie eine Familie, in dieser kalten und dunklen Zeit und wärmen uns an den kleinen Freuden des Lebens. Ob es das Lächeln eines Kindes ist, das Knistern des Feuers oder das Klingeln der Schlittenglocken in der Ferne - diese Momente geben uns die Kraft weiterzumachen und unseren Weg zu gehen. Lasst uns in dieser Zeit an das Gute glauben und uns gegenseitig unterstützen, denn nur so können wir die Welt zu einem besseren Ort machen. Frohe Weihnachten!\n"
          ]
        }
      ],
      "source": [
        "import openai \n",
        "\n",
        "# den eigenen, nicht öffentlichen Schlüssel aus GoogleDrive für OpenAI laden, privat\n",
        "openAiKey = open('/content/drive/MyDrive/Colab Notebooks/privateKeys/openAi_Key.txt', 'r')\n",
        "openAiKey = openAiKey.read()\n",
        "\n",
        "# hiernach kopieren\n",
        "#_______________________________________________________________________________\n",
        "\n",
        "# ab hier openAI nutzen\n",
        "def chat(prompt):\n",
        "    completions = openai.Completion.create(model=\"text-davinci-002\", prompt=prompt, max_tokens=1024, api_key=openAiKey)\n",
        "    message = completions.choices[0].text\n",
        "    return message\n",
        "\n",
        "#_______________________________________________________________________________\n",
        "# Ende kopieren\n",
        "\n",
        "# ab hier nur für Colab, zum Aufruf, Testen und Entwickeln der Funktion\n",
        "\n",
        "# Aufruf der Funktion mit Übergabe mit dem eigenem Text\n",
        "# ;-) natürlich nur im eigenem Google- Drive\n",
        "result = chat('Schreib mir einen weihnachtlichen Text.')\n",
        "\n",
        "print(result)\n"
      ]
    }
  ]
}